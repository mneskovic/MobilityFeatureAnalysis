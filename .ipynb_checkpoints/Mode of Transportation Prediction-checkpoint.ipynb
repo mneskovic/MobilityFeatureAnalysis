{
 "cells": [
  {
   "cell_type": "code",
   "execution_count": 22,
   "id": "swedish-portugal",
   "metadata": {},
   "outputs": [],
   "source": [
    "import os\n",
    "import pandas as pd\n",
    "import numpy as np\n",
    "import json\n",
    "from sklearn.model_selection import train_test_split\n",
    "from sklearn.neural_network import MLPClassifier\n",
    "from sklearn.svm import SVC\n",
    "from sklearn.gaussian_process.kernels import RBF\n",
    "from sklearn.ensemble import RandomForestClassifier\n",
    "from sklearn.metrics import classification_report\n",
    "from sklearn.pipeline import make_pipeline\n",
    "from sklearn.preprocessing import StandardScaler\n",
    "import matplotlib.pyplot as plt"
   ]
  },
  {
   "cell_type": "markdown",
   "id": "boxed-indicator",
   "metadata": {},
   "source": [
    "# Import Google Semantic Data"
   ]
  },
  {
   "cell_type": "code",
   "execution_count": 26,
   "id": "complete-chicago",
   "metadata": {},
   "outputs": [],
   "source": [
    "# Load file and filter out all non-acitivty segments\n",
    "months = ['JANUARY','FEBRUARY','MARCH','MAY','JUNE','JULY','AUGUST','SEPTEMBER','OCTOBER','NOVEMBER','DECEMBER']\n",
    "years = ['2014','2015','2016']\n",
    "\n",
    "data = []\n",
    "for year in years:\n",
    "    for month in months:\n",
    "        m = month\n",
    "        if year == '2014':\n",
    "            m = 'DECEMBER'\n",
    "        if year == '2016':\n",
    "            m = 'JANUARY'\n",
    "        with open('GoogleLocationHistory/Takeout/Location History/Semantic Location History/{}/{}_{}.json'.format(year,year, m)) as f:\n",
    "            curr = json.load(f)\n",
    "        curr = curr['timelineObjects']\n",
    "        curr = [x['activitySegment'] for x in curr if 'activitySegment' in x]\n",
    "        data.extend(curr)\n",
    "        if year == \"2016\" and month != \"JANUARY\" and month != \"FEBRUARY\" and month != \"MARCH\":\n",
    "            with open('GoogleLocationHistory/Takeout/Location History/Semantic Location History/NamanSemantic/2016_{}.json'.format(month)) as f:\n",
    "                curr = json.load(f)\n",
    "            curr = curr['timelineObjects']\n",
    "            curr = [x['activitySegment'] for x in curr if 'activitySegment' in x]\n",
    "            data.extend(curr)"
   ]
  },
  {
   "cell_type": "code",
   "execution_count": 29,
   "id": "professional-speaker",
   "metadata": {
    "scrolled": true
   },
   "outputs": [
    {
     "data": {
      "text/html": [
       "<div>\n",
       "<style scoped>\n",
       "    .dataframe tbody tr th:only-of-type {\n",
       "        vertical-align: middle;\n",
       "    }\n",
       "\n",
       "    .dataframe tbody tr th {\n",
       "        vertical-align: top;\n",
       "    }\n",
       "\n",
       "    .dataframe thead th {\n",
       "        text-align: right;\n",
       "    }\n",
       "</style>\n",
       "<table border=\"1\" class=\"dataframe\">\n",
       "  <thead>\n",
       "    <tr style=\"text-align: right;\">\n",
       "      <th></th>\n",
       "      <th>startLocation</th>\n",
       "      <th>endLocation</th>\n",
       "      <th>duration</th>\n",
       "      <th>activityType</th>\n",
       "      <th>activities</th>\n",
       "      <th>simplifiedRawPath</th>\n",
       "      <th>confidence</th>\n",
       "      <th>waypointPath</th>\n",
       "      <th>editConfirmationStatus</th>\n",
       "      <th>distance</th>\n",
       "      <th>transitPath</th>\n",
       "    </tr>\n",
       "  </thead>\n",
       "  <tbody>\n",
       "    <tr>\n",
       "      <th>0</th>\n",
       "      <td>{'latitudeE7': 403539256, 'longitudeE7': -7527...</td>\n",
       "      <td>{'latitudeE7': 399563620, 'longitudeE7': -7487...</td>\n",
       "      <td>{'startTimestampMs': '1419120901134', 'endTime...</td>\n",
       "      <td>UNKNOWN_ACTIVITY_TYPE</td>\n",
       "      <td>[{'activityType': 'UNKNOWN_ACTIVITY_TYPE', 'pr...</td>\n",
       "      <td>{'points': [{'latE7': 401496559, 'lngE7': -750...</td>\n",
       "      <td>NaN</td>\n",
       "      <td>NaN</td>\n",
       "      <td>NaN</td>\n",
       "      <td>NaN</td>\n",
       "      <td>NaN</td>\n",
       "    </tr>\n",
       "    <tr>\n",
       "      <th>1</th>\n",
       "      <td>{'latitudeE7': 399563620, 'longitudeE7': -7487...</td>\n",
       "      <td>{'latitudeE7': 400105079, 'longitudeE7': -7558...</td>\n",
       "      <td>{'startTimestampMs': '1419132912091', 'endTime...</td>\n",
       "      <td>UNKNOWN_ACTIVITY_TYPE</td>\n",
       "      <td>[{'activityType': 'UNKNOWN_ACTIVITY_TYPE', 'pr...</td>\n",
       "      <td>{'points': [{'latE7': 400486992, 'lngE7': -755...</td>\n",
       "      <td>NaN</td>\n",
       "      <td>NaN</td>\n",
       "      <td>NaN</td>\n",
       "      <td>NaN</td>\n",
       "      <td>NaN</td>\n",
       "    </tr>\n",
       "    <tr>\n",
       "      <th>2</th>\n",
       "      <td>{'latitudeE7': 400105079, 'longitudeE7': -7558...</td>\n",
       "      <td>{'latitudeE7': 400238167, 'longitudeE7': -7562...</td>\n",
       "      <td>{'startTimestampMs': '1419194024865', 'endTime...</td>\n",
       "      <td>UNKNOWN_ACTIVITY_TYPE</td>\n",
       "      <td>[{'activityType': 'UNKNOWN_ACTIVITY_TYPE', 'pr...</td>\n",
       "      <td>{'points': [{'latE7': 400120466, 'lngE7': -755...</td>\n",
       "      <td>NaN</td>\n",
       "      <td>NaN</td>\n",
       "      <td>NaN</td>\n",
       "      <td>NaN</td>\n",
       "      <td>NaN</td>\n",
       "    </tr>\n",
       "    <tr>\n",
       "      <th>3</th>\n",
       "      <td>{'latitudeE7': 400238167, 'longitudeE7': -7562...</td>\n",
       "      <td>{'latitudeE7': 399985533, 'longitudeE7': -7556...</td>\n",
       "      <td>{'startTimestampMs': '1419199507603', 'endTime...</td>\n",
       "      <td>UNKNOWN_ACTIVITY_TYPE</td>\n",
       "      <td>[{'activityType': 'UNKNOWN_ACTIVITY_TYPE', 'pr...</td>\n",
       "      <td>{'points': [{'latE7': 400236795, 'lngE7': -756...</td>\n",
       "      <td>NaN</td>\n",
       "      <td>NaN</td>\n",
       "      <td>NaN</td>\n",
       "      <td>NaN</td>\n",
       "      <td>NaN</td>\n",
       "    </tr>\n",
       "    <tr>\n",
       "      <th>4</th>\n",
       "      <td>{'latitudeE7': 399985533, 'longitudeE7': -7556...</td>\n",
       "      <td>{'latitudeE7': 400106500, 'longitudeE7': -7558...</td>\n",
       "      <td>{'startTimestampMs': '1419203248778', 'endTime...</td>\n",
       "      <td>UNKNOWN_ACTIVITY_TYPE</td>\n",
       "      <td>[{'activityType': 'UNKNOWN_ACTIVITY_TYPE', 'pr...</td>\n",
       "      <td>{'points': [{'latE7': 400091622, 'lngE7': -755...</td>\n",
       "      <td>NaN</td>\n",
       "      <td>NaN</td>\n",
       "      <td>NaN</td>\n",
       "      <td>NaN</td>\n",
       "      <td>NaN</td>\n",
       "    </tr>\n",
       "  </tbody>\n",
       "</table>\n",
       "</div>"
      ],
      "text/plain": [
       "                                       startLocation  \\\n",
       "0  {'latitudeE7': 403539256, 'longitudeE7': -7527...   \n",
       "1  {'latitudeE7': 399563620, 'longitudeE7': -7487...   \n",
       "2  {'latitudeE7': 400105079, 'longitudeE7': -7558...   \n",
       "3  {'latitudeE7': 400238167, 'longitudeE7': -7562...   \n",
       "4  {'latitudeE7': 399985533, 'longitudeE7': -7556...   \n",
       "\n",
       "                                         endLocation  \\\n",
       "0  {'latitudeE7': 399563620, 'longitudeE7': -7487...   \n",
       "1  {'latitudeE7': 400105079, 'longitudeE7': -7558...   \n",
       "2  {'latitudeE7': 400238167, 'longitudeE7': -7562...   \n",
       "3  {'latitudeE7': 399985533, 'longitudeE7': -7556...   \n",
       "4  {'latitudeE7': 400106500, 'longitudeE7': -7558...   \n",
       "\n",
       "                                            duration           activityType  \\\n",
       "0  {'startTimestampMs': '1419120901134', 'endTime...  UNKNOWN_ACTIVITY_TYPE   \n",
       "1  {'startTimestampMs': '1419132912091', 'endTime...  UNKNOWN_ACTIVITY_TYPE   \n",
       "2  {'startTimestampMs': '1419194024865', 'endTime...  UNKNOWN_ACTIVITY_TYPE   \n",
       "3  {'startTimestampMs': '1419199507603', 'endTime...  UNKNOWN_ACTIVITY_TYPE   \n",
       "4  {'startTimestampMs': '1419203248778', 'endTime...  UNKNOWN_ACTIVITY_TYPE   \n",
       "\n",
       "                                          activities  \\\n",
       "0  [{'activityType': 'UNKNOWN_ACTIVITY_TYPE', 'pr...   \n",
       "1  [{'activityType': 'UNKNOWN_ACTIVITY_TYPE', 'pr...   \n",
       "2  [{'activityType': 'UNKNOWN_ACTIVITY_TYPE', 'pr...   \n",
       "3  [{'activityType': 'UNKNOWN_ACTIVITY_TYPE', 'pr...   \n",
       "4  [{'activityType': 'UNKNOWN_ACTIVITY_TYPE', 'pr...   \n",
       "\n",
       "                                   simplifiedRawPath confidence waypointPath  \\\n",
       "0  {'points': [{'latE7': 401496559, 'lngE7': -750...        NaN          NaN   \n",
       "1  {'points': [{'latE7': 400486992, 'lngE7': -755...        NaN          NaN   \n",
       "2  {'points': [{'latE7': 400120466, 'lngE7': -755...        NaN          NaN   \n",
       "3  {'points': [{'latE7': 400236795, 'lngE7': -756...        NaN          NaN   \n",
       "4  {'points': [{'latE7': 400091622, 'lngE7': -755...        NaN          NaN   \n",
       "\n",
       "  editConfirmationStatus  distance transitPath  \n",
       "0                    NaN       NaN         NaN  \n",
       "1                    NaN       NaN         NaN  \n",
       "2                    NaN       NaN         NaN  \n",
       "3                    NaN       NaN         NaN  \n",
       "4                    NaN       NaN         NaN  "
      ]
     },
     "execution_count": 29,
     "metadata": {},
     "output_type": "execute_result"
    }
   ],
   "source": [
    "df = pd.DataFrame(data)\n",
    "df.head()"
   ]
  },
  {
   "cell_type": "markdown",
   "id": "improved-accommodation",
   "metadata": {},
   "source": [
    "# Clean Data"
   ]
  },
  {
   "cell_type": "code",
   "execution_count": 30,
   "id": "built-coordinate",
   "metadata": {},
   "outputs": [],
   "source": [
    "df.duration = df.duration.apply(lambda x: int(x['endTimestampMs']) - df.duration.apply(lambda x: int(x['startTimestampMs'])))\n",
    "df.activities = df.activities.apply(lambda x: x[0]['activityType'])"
   ]
  },
  {
   "cell_type": "code",
   "execution_count": 31,
   "id": "judicial-settlement",
   "metadata": {},
   "outputs": [
    {
     "data": {
      "text/html": [
       "<div>\n",
       "<style scoped>\n",
       "    .dataframe tbody tr th:only-of-type {\n",
       "        vertical-align: middle;\n",
       "    }\n",
       "\n",
       "    .dataframe tbody tr th {\n",
       "        vertical-align: top;\n",
       "    }\n",
       "\n",
       "    .dataframe thead th {\n",
       "        text-align: right;\n",
       "    }\n",
       "</style>\n",
       "<table border=\"1\" class=\"dataframe\">\n",
       "  <thead>\n",
       "    <tr style=\"text-align: right;\">\n",
       "      <th></th>\n",
       "      <th>duration</th>\n",
       "      <th>distance</th>\n",
       "      <th>activities</th>\n",
       "      <th>speed</th>\n",
       "    </tr>\n",
       "  </thead>\n",
       "  <tbody>\n",
       "    <tr>\n",
       "      <th>56</th>\n",
       "      <td>4241344424</td>\n",
       "      <td>8020.0</td>\n",
       "      <td>IN_VEHICLE</td>\n",
       "      <td>1.890910e-06</td>\n",
       "    </tr>\n",
       "    <tr>\n",
       "      <th>57</th>\n",
       "      <td>4302949291</td>\n",
       "      <td>7634.0</td>\n",
       "      <td>IN_VEHICLE</td>\n",
       "      <td>1.774132e-06</td>\n",
       "    </tr>\n",
       "    <tr>\n",
       "      <th>58</th>\n",
       "      <td>4311089583</td>\n",
       "      <td>7838.0</td>\n",
       "      <td>IN_VEHICLE</td>\n",
       "      <td>1.818102e-06</td>\n",
       "    </tr>\n",
       "    <tr>\n",
       "      <th>59</th>\n",
       "      <td>4362641115</td>\n",
       "      <td>3887.0</td>\n",
       "      <td>CYCLING</td>\n",
       "      <td>8.909740e-07</td>\n",
       "    </tr>\n",
       "    <tr>\n",
       "      <th>60</th>\n",
       "      <td>4391139804</td>\n",
       "      <td>481.0</td>\n",
       "      <td>UNKNOWN_ACTIVITY_TYPE</td>\n",
       "      <td>1.095388e-07</td>\n",
       "    </tr>\n",
       "  </tbody>\n",
       "</table>\n",
       "</div>"
      ],
      "text/plain": [
       "      duration  distance             activities         speed\n",
       "56  4241344424    8020.0             IN_VEHICLE  1.890910e-06\n",
       "57  4302949291    7634.0             IN_VEHICLE  1.774132e-06\n",
       "58  4311089583    7838.0             IN_VEHICLE  1.818102e-06\n",
       "59  4362641115    3887.0                CYCLING  8.909740e-07\n",
       "60  4391139804     481.0  UNKNOWN_ACTIVITY_TYPE  1.095388e-07"
      ]
     },
     "execution_count": 31,
     "metadata": {},
     "output_type": "execute_result"
    }
   ],
   "source": [
    "simple = df[['duration', 'distance', 'activities']]\n",
    "simple = simple.dropna()\n",
    "simple['speed'] = simple['distance']/simple['duration']\n",
    "simple.head()"
   ]
  },
  {
   "cell_type": "markdown",
   "id": "double-yellow",
   "metadata": {},
   "source": [
    "# Split Data, Train Model, and Evaluate"
   ]
  },
  {
   "cell_type": "code",
   "execution_count": 36,
   "id": "burning-income",
   "metadata": {},
   "outputs": [
    {
     "name": "stdout",
     "output_type": "stream",
     "text": [
      "RBF SVM: 51.70212765957447\n",
      "Random Forest: 78.93617021276596\n",
      "Multi-Layer Perceptron: 55.1063829787234\n"
     ]
    },
    {
     "name": "stderr",
     "output_type": "stream",
     "text": [
      "/home/mneskovic/anaconda3/envs/Thesis/lib/python3.7/site-packages/sklearn/neural_network/_multilayer_perceptron.py:617: ConvergenceWarning: Stochastic Optimizer: Maximum iterations (200) reached and the optimization hasn't converged yet.\n",
      "  % self.max_iter, ConvergenceWarning)\n"
     ]
    },
    {
     "data": {
      "image/png": "[encoded data removed]",
      "text/plain": [
       "<Figure size 432x288 with 1 Axes>"
      ]
     },
     "metadata": {
      "needs_background": "light"
     },
     "output_type": "display_data"
    }
   ],
   "source": [
    "x_train, x_test, y_train, y_test = train_test_split(simple[['duration','distance']], simple['activities'], test_size = 0.2)\n",
    "names = [\"RBF SVM\", \"Random Forest\", \"Multi-Layer Perceptron\"]\n",
    "\n",
    "classifiers = [\n",
    "    make_pipeline(StandardScaler(), SVC(C=3, gamma=0.1)),\n",
    "    RandomForestClassifier(),\n",
    "    make_pipeline(StandardScaler(), MLPClassifier(hidden_layer_sizes=(50, 50, 50)))]\n",
    "\n",
    "scores = []\n",
    "for name, clf in zip(names, classifiers):\n",
    "    clf.fit(x_train, y_train)\n",
    "    score = clf.score(x_test, y_test) * 100\n",
    "    print(name + \": \" + str(score))\n",
    "    scores.append(score)\n",
    "    \n",
    "plt.barh(names,\n",
    "scores, align='center')\n",
    "\n",
    "plt.ylabel('Model')\n",
    "plt.xlabel('Accuracy')\n",
    "plt.title('Test Accuracy By Model')\n",
    "\n",
    "plt.show()"
   ]
  },
  {
   "cell_type": "code",
   "execution_count": 46,
   "id": "generic-completion",
   "metadata": {},
   "outputs": [
    {
     "name": "stdout",
     "output_type": "stream",
     "text": [
      "90.74626865671642\n",
      "51\n"
     ]
    },
    {
     "data": {
      "text/plain": [
       "Text(0, 0.5, 'Accuracy')"
      ]
     },
     "execution_count": 46,
     "metadata": {},
     "output_type": "execute_result"
    },
    {
     "data": {
      "image/png": "[encoded data removed]",
      "text/plain": [
       "<Figure size 432x288 with 1 Axes>"
      ]
     },
     "metadata": {
      "needs_background": "light"
     },
     "output_type": "display_data"
    }
   ],
   "source": [
    "num_trees = []\n",
    "acc = []\n",
    "hi = 0\n",
    "max_i = 0\n",
    "for i in range(1, 401, 10):\n",
    "    c = RandomForestClassifier(n_estimators=i)\n",
    "    c.fit(x_train, y_train)\n",
    "    score = c.score(x_test, y_test) * 100\n",
    "    if score > hi:\n",
    "        hi = score\n",
    "        max_i = i\n",
    "    acc.append(score)\n",
    "    num_trees.append(i)\n",
    "print(hi)\n",
    "print(max_i)\n",
    "plt.plot(num_trees, acc)\n",
    "plt.title(\"Accuracy by Number of Decision Trees\")\n",
    "plt.xlabel(\"Number of Trees\")\n",
    "plt.ylabel(\"Accuracy\")"
   ]
  },
  {
   "cell_type": "code",
   "execution_count": 47,
   "id": "considered-prior",
   "metadata": {
    "scrolled": false
   },
   "outputs": [
    {
     "name": "stdout",
     "output_type": "stream",
     "text": [
      "90.74626865671642\n",
      "13\n"
     ]
    },
    {
     "data": {
      "text/plain": [
       "Text(0, 0.5, 'Accuracy')"
      ]
     },
     "execution_count": 47,
     "metadata": {},
     "output_type": "execute_result"
    },
    {
     "data": {
      "image/png": "[encoded data removed]",
      "text/plain": [
       "<Figure size 432x288 with 1 Axes>"
      ]
     },
     "metadata": {
      "needs_background": "light"
     },
     "output_type": "display_data"
    }
   ],
   "source": [
    "max_depth = []\n",
    "acc = []\n",
    "hi = 0\n",
    "max_i = 0\n",
    "for i in range(1, 20):\n",
    "    c = RandomForestClassifier(max_depth=i)\n",
    "    c.fit(x_train, y_train)\n",
    "    score = c.score(x_test, y_test) * 100\n",
    "    if score > hi:\n",
    "        hi = score\n",
    "        max_i = i\n",
    "    acc.append(score)\n",
    "    max_depth.append(i)\n",
    "print(hi)\n",
    "print(max_i)\n",
    "plt.plot(max_depth, acc)\n",
    "plt.title(\"Accuracy by Max Depth\")\n",
    "plt.xlabel(\"Max Depth\")\n",
    "plt.ylabel(\"Accuracy\")"
   ]
  },
  {
   "cell_type": "code",
   "execution_count": 48,
   "id": "incredible-orientation",
   "metadata": {},
   "outputs": [
    {
     "name": "stdout",
     "output_type": "stream",
     "text": [
      "90.44776119402985\n"
     ]
    }
   ],
   "source": [
    "c = RandomForestClassifier(n_estimators = 61, max_depth=9)\n",
    "c.fit(x_train, y_train)\n",
    "score = c.score(x_test, y_test) * 100\n",
    "print(score)"
   ]
  },
  {
   "cell_type": "code",
   "execution_count": 49,
   "id": "physical-parks",
   "metadata": {},
   "outputs": [
    {
     "name": "stdout",
     "output_type": "stream",
     "text": [
      "                       precision    recall  f1-score   support\n",
      "\n",
      "              CYCLING       1.00      0.50      0.67         4\n",
      "               IN_BUS       0.00      0.00      0.00         1\n",
      " IN_PASSENGER_VEHICLE       0.92      0.97      0.95       107\n",
      "           IN_VEHICLE       0.93      0.89      0.91        99\n",
      "UNKNOWN_ACTIVITY_TYPE       1.00      1.00      1.00         5\n",
      "              WALKING       0.87      0.87      0.87       119\n",
      "\n",
      "             accuracy                           0.90       335\n",
      "            macro avg       0.79      0.71      0.73       335\n",
      "         weighted avg       0.90      0.90      0.90       335\n",
      "\n",
      "\n"
     ]
    },
    {
     "name": "stderr",
     "output_type": "stream",
     "text": [
      "/home/mneskovic/anaconda3/envs/Thesis/lib/python3.7/site-packages/sklearn/metrics/_classification.py:1245: UndefinedMetricWarning: Precision and F-score are ill-defined and being set to 0.0 in labels with no predicted samples. Use `zero_division` parameter to control this behavior.\n",
      "  _warn_prf(average, modifier, msg_start, len(result))\n",
      "/home/mneskovic/anaconda3/envs/Thesis/lib/python3.7/site-packages/sklearn/metrics/_classification.py:1245: UndefinedMetricWarning: Precision and F-score are ill-defined and being set to 0.0 in labels with no predicted samples. Use `zero_division` parameter to control this behavior.\n",
      "  _warn_prf(average, modifier, msg_start, len(result))\n",
      "/home/mneskovic/anaconda3/envs/Thesis/lib/python3.7/site-packages/sklearn/metrics/_classification.py:1245: UndefinedMetricWarning: Precision and F-score are ill-defined and being set to 0.0 in labels with no predicted samples. Use `zero_division` parameter to control this behavior.\n",
      "  _warn_prf(average, modifier, msg_start, len(result))\n"
     ]
    }
   ],
   "source": [
    "predicted = c.predict(x_test)\n",
    "print(f\"{classification_report(y_test, predicted)}\\n\")"
   ]
  },
  {
   "cell_type": "code",
   "execution_count": null,
   "id": "afraid-yellow",
   "metadata": {},
   "outputs": [],
   "source": []
  }
 ],
 "metadata": {
  "kernelspec": {
   "display_name": "Thesis",
   "language": "python",
   "name": "thesis"
  },
  "language_info": {
   "codemirror_mode": {
    "name": "ipython",
    "version": 3
   },
   "file_extension": ".py",
   "mimetype": "text/x-python",
   "name": "python",
   "nbconvert_exporter": "python",
   "pygments_lexer": "ipython3",
   "version": "3.7.10"
  }
 },
 "nbformat": 4,
 "nbformat_minor": 5
}
